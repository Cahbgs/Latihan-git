{
  "nbformat": 4,
  "nbformat_minor": 0,
  "metadata": {
    "colab": {
      "provenance": [],
      "collapsed_sections": [
        "FvUFjsJpRDih",
        "yasQ24RGRReC"
      ],
      "include_colab_link": true
    },
    "kernelspec": {
      "name": "python3",
      "display_name": "Python 3"
    },
    "language_info": {
      "name": "python"
    }
  },
  "cells": [
    {
      "cell_type": "markdown",
      "metadata": {
        "id": "view-in-github",
        "colab_type": "text"
      },
      "source": [
        "<a href=\"https://colab.research.google.com/github/Cahbgs/Latihan-git/blob/main/D1PM_LINEAR_ALGEBRA_VECTOR_%26_MATRIX.ipynb\" target=\"_parent\"><img src=\"https://colab.research.google.com/assets/colab-badge.svg\" alt=\"Open In Colab\"/></a>"
      ]
    },
    {
      "cell_type": "code",
      "execution_count": null,
      "metadata": {
        "id": "JlA8h_F0PXQs"
      },
      "outputs": [],
      "source": [
        "import numpy as np\n",
        "import matplotlib.pyplot as plt"
      ]
    },
    {
      "cell_type": "code",
      "source": [
        "def plot_vector2d(vector2d, origin=[0, 0], **options):\n",
        "    return plt.arrow(origin[0], origin[1], vector2d[0], vector2d[1],\n",
        "              head_width=0.2, head_length=0.3, length_includes_head=True,\n",
        "              **options)"
      ],
      "metadata": {
        "id": "MtQcwxMhPch2"
      },
      "execution_count": null,
      "outputs": []
    },
    {
      "cell_type": "markdown",
      "source": [
        "# **VEKTOR**"
      ],
      "metadata": {
        "id": "NRZbfajTPikm"
      }
    },
    {
      "cell_type": "code",
      "source": [],
      "metadata": {
        "id": "DYJWdFeAKlA-"
      },
      "execution_count": null,
      "outputs": []
    },
    {
      "cell_type": "markdown",
      "source": [
        "## **Vector Norm**"
      ],
      "metadata": {
        "id": "fI6nMDpJPlyn"
      }
    },
    {
      "cell_type": "code",
      "source": [
        "plot_vector2d(v, color='r')\n",
        "\n",
        "plt.axis([0,7,0,7])\n",
        "plt.grid()\n",
        "plt.show()"
      ],
      "metadata": {
        "id": "wGtKRC6WTy5X"
      },
      "execution_count": null,
      "outputs": []
    },
    {
      "cell_type": "code",
      "source": [
        "# manhattan\n",
        "np.linalg.norm(v, 1)"
      ],
      "metadata": {
        "id": "bBOCU9MAusnK"
      },
      "execution_count": null,
      "outputs": []
    },
    {
      "cell_type": "code",
      "source": [
        "# euclidean\n",
        "np.linalg.norm(v, 2)"
      ],
      "metadata": {
        "id": "2swww8VQu2Iz"
      },
      "execution_count": null,
      "outputs": []
    },
    {
      "cell_type": "code",
      "source": [
        "# vector unit/normalized vector\n",
        "v_unit = np.array([4/5, 3/5])\n",
        "v_unit"
      ],
      "metadata": {
        "id": "amYjLqkBvLe2"
      },
      "execution_count": null,
      "outputs": []
    },
    {
      "cell_type": "code",
      "source": [
        "plot_vector2d(v, color='r')\n",
        "plot_vector2d(v_unit, color='b')\n",
        "\n",
        "plt.axis([0,7,0,7])\n",
        "plt.grid()\n",
        "plt.show()"
      ],
      "metadata": {
        "id": "8UGjOMyCvw5X"
      },
      "execution_count": null,
      "outputs": []
    },
    {
      "cell_type": "markdown",
      "source": [
        "## **Operasi Aritmatika**"
      ],
      "metadata": {
        "id": "Mqoxaff-PpnG"
      }
    },
    {
      "cell_type": "code",
      "source": [
        "a = np.array([1, 2, 3])\n",
        "b = np.array([2, 1, 1])"
      ],
      "metadata": {
        "id": "s75kouywwWCy"
      },
      "execution_count": null,
      "outputs": []
    },
    {
      "cell_type": "markdown",
      "source": [
        "**penjumlahan**"
      ],
      "metadata": {
        "id": "q2c1SvROP-aj"
      }
    },
    {
      "cell_type": "code",
      "source": [
        "# vector terhadap skalar\n"
      ],
      "metadata": {
        "id": "75Mk9QdWP94Y"
      },
      "execution_count": null,
      "outputs": []
    },
    {
      "cell_type": "code",
      "source": [
        "# vector terhadap vector\n"
      ],
      "metadata": {
        "id": "pJj8VKU7QmM6"
      },
      "execution_count": null,
      "outputs": []
    },
    {
      "cell_type": "code",
      "source": [
        "# error shape missmatch\n"
      ],
      "metadata": {
        "id": "3vK01BPhw3QZ"
      },
      "execution_count": null,
      "outputs": []
    },
    {
      "cell_type": "code",
      "source": [
        "# visualization"
      ],
      "metadata": {
        "id": "gfAC44R6xLD_"
      },
      "execution_count": null,
      "outputs": []
    },
    {
      "cell_type": "code",
      "source": [
        "plot_vector2d(v1, color='r')\n",
        "plot_vector2d(v2, origin=v1, color='b')\n",
        "plot_vector2d(v1+v2, color='g')\n",
        "\n",
        "plt.axis([0,8,0,8])\n",
        "plt.grid()\n",
        "plt.show()"
      ],
      "metadata": {
        "id": "gGFvIKMAxH9S"
      },
      "execution_count": null,
      "outputs": []
    },
    {
      "cell_type": "markdown",
      "source": [
        "**pengurangan**"
      ],
      "metadata": {
        "id": "BzkAB_32QAjJ"
      }
    },
    {
      "cell_type": "code",
      "source": [
        "# vector terhadap skalar\n"
      ],
      "metadata": {
        "id": "hxT4ccOVPiP4"
      },
      "execution_count": null,
      "outputs": []
    },
    {
      "cell_type": "code",
      "source": [
        "# vector terhadap vector\n"
      ],
      "metadata": {
        "id": "iWw4MqUYQhsI"
      },
      "execution_count": null,
      "outputs": []
    },
    {
      "cell_type": "markdown",
      "source": [
        "**pembagian**"
      ],
      "metadata": {
        "id": "fa7bSwA9QCzd"
      }
    },
    {
      "cell_type": "code",
      "source": [
        "print(a, b)"
      ],
      "metadata": {
        "id": "EbGzpmQ1y6Bx"
      },
      "execution_count": null,
      "outputs": []
    },
    {
      "cell_type": "code",
      "source": [
        "# vector terhadap skalar\n"
      ],
      "metadata": {
        "id": "b_hqM9GzQD5C"
      },
      "execution_count": null,
      "outputs": []
    },
    {
      "cell_type": "code",
      "source": [
        "# vector terhadap vector\n"
      ],
      "metadata": {
        "id": "XN1ny5ErQfmo"
      },
      "execution_count": null,
      "outputs": []
    },
    {
      "cell_type": "code",
      "source": [
        "c = np.array([1, 0, 1])\n",
        "c"
      ],
      "metadata": {
        "id": "WgfjTrVLzAi-"
      },
      "execution_count": null,
      "outputs": []
    },
    {
      "cell_type": "markdown",
      "source": [
        "**perkalian**"
      ],
      "metadata": {
        "id": "Pqj-CC5ZQEaR"
      }
    },
    {
      "cell_type": "code",
      "source": [
        "# vector terhadap skalar - scaling\n",
        "v = np.array([4,3])\n",
        "\n",
        "plot_vector2d(v, color='r')\n",
        "plot_vector2d(-1.5*v, color='g')\n",
        "\n",
        "plt.axis([-10, 10, -10, 10])  # rentang axis x dan y\n",
        "plt.axvline(0)              # garis y = 0\n",
        "plt.axhline(0)              # garis x = 0\n",
        "plt.grid()\n",
        "plt.show()"
      ],
      "metadata": {
        "id": "aX6BlECiQGBQ"
      },
      "execution_count": null,
      "outputs": []
    },
    {
      "cell_type": "code",
      "source": [
        "#  vector terhadap vector - element-wise multiplication\n"
      ],
      "metadata": {
        "id": "FbsXfSAIQNlz"
      },
      "execution_count": null,
      "outputs": []
    },
    {
      "cell_type": "code",
      "source": [
        "# dot product\n"
      ],
      "metadata": {
        "id": "qhoRIsn9Qbam"
      },
      "execution_count": null,
      "outputs": []
    },
    {
      "cell_type": "markdown",
      "source": [
        "## **Cosine Similarity**"
      ],
      "metadata": {
        "id": "FvUFjsJpRDih"
      }
    },
    {
      "cell_type": "code",
      "source": [
        "v1 = np.array([4,3])\n",
        "v2 = np.array([6,3])\n",
        "\n",
        "plot_vector2d(v1, color='r')\n",
        "plot_vector2d(v2, color='g')\n",
        "\n",
        "plt.axis([-10, 10, 0, 10])  # rentang axis x dan y\n",
        "plt.axvline(0)              # garis y = 0\n",
        "plt.axhline(0)              # garis x = 0\n",
        "plt.grid()\n",
        "plt.show()"
      ],
      "metadata": {
        "id": "8xvgUo51RBoc"
      },
      "execution_count": null,
      "outputs": []
    },
    {
      "cell_type": "code",
      "source": [
        "v1 = np.array([5, 0])\n",
        "v2 = np.array([0, 4])\n",
        "\n",
        "plot_vector2d(v2, color='r')\n",
        "plot_vector2d(v1, color='g')\n",
        "\n",
        "plt.axis([0, 10, 0, 10])  # rentang axis x dan y\n",
        "plt.axvline(0)              # garis y = 0\n",
        "plt.axhline(0)              # garis x = 0\n",
        "plt.grid()\n",
        "plt.show()"
      ],
      "metadata": {
        "id": "cJhTYhfmfUgo"
      },
      "execution_count": null,
      "outputs": []
    },
    {
      "cell_type": "code",
      "source": [
        "cos_theta = v1 @ v2 / (np.linalg.norm(v1) * np.linalg.norm(v2))\n",
        "cos_theta"
      ],
      "metadata": {
        "id": "ZBMdTZsQfl__"
      },
      "execution_count": null,
      "outputs": []
    },
    {
      "cell_type": "code",
      "source": [
        "v1 = np.array([5, 0])\n",
        "v2 = np.array([8, 0])\n",
        "\n",
        "plot_vector2d(v2, color='r')\n",
        "plot_vector2d(v1, color='g')\n",
        "\n",
        "plt.axis([0, 10, 0, 10])  # rentang axis x dan y\n",
        "plt.axvline(0)              # garis y = 0\n",
        "plt.axhline(0)              # garis x = 0\n",
        "plt.grid()\n",
        "plt.show()"
      ],
      "metadata": {
        "id": "izyRu6Wz4Gi1"
      },
      "execution_count": null,
      "outputs": []
    },
    {
      "cell_type": "code",
      "source": [
        "cos_theta = v1 @ v2 / (np.linalg.norm(v1) * np.linalg.norm(v2))\n",
        "cos_theta"
      ],
      "metadata": {
        "id": "3jHnv7Ji4O6F"
      },
      "execution_count": null,
      "outputs": []
    },
    {
      "cell_type": "code",
      "source": [
        "# convert to radian\n",
        "rad = np.arccos(cos_theta)\n",
        "rad"
      ],
      "metadata": {
        "id": "C8H2RjVV_I2N"
      },
      "execution_count": null,
      "outputs": []
    },
    {
      "cell_type": "code",
      "source": [
        "# convert to degree\n",
        "degree = np.degrees(rad)\n",
        "degree"
      ],
      "metadata": {
        "id": "w_nQ2jWS_UvV"
      },
      "execution_count": null,
      "outputs": []
    },
    {
      "cell_type": "markdown",
      "source": [
        "# **MATRIX**"
      ],
      "metadata": {
        "id": "OCatTijvRAr2"
      }
    },
    {
      "cell_type": "markdown",
      "source": [
        "## **Operasi Aritmatika**"
      ],
      "metadata": {
        "id": "yasQ24RGRReC"
      }
    },
    {
      "cell_type": "code",
      "source": [
        "print(A)"
      ],
      "metadata": {
        "id": "gEBbaOzWmG03"
      },
      "execution_count": null,
      "outputs": []
    },
    {
      "cell_type": "code",
      "source": [
        "print(B)"
      ],
      "metadata": {
        "id": "eaV83G6SmH6e"
      },
      "execution_count": null,
      "outputs": []
    },
    {
      "cell_type": "markdown",
      "source": [
        "**Penjumlahan**"
      ],
      "metadata": {
        "id": "0fshRx_HRebj"
      }
    },
    {
      "cell_type": "code",
      "source": [
        "# Matrix terhadap scalar\n"
      ],
      "metadata": {
        "id": "umYzqz0eRQ7w"
      },
      "execution_count": null,
      "outputs": []
    },
    {
      "cell_type": "code",
      "source": [
        "# Matrix terhadap matrix\n"
      ],
      "metadata": {
        "id": "iRpMtdrkR1MA"
      },
      "execution_count": null,
      "outputs": []
    },
    {
      "cell_type": "code",
      "source": [
        "# matrix terhadap vektor\n"
      ],
      "metadata": {
        "id": "v09TKhIImTca"
      },
      "execution_count": null,
      "outputs": []
    },
    {
      "cell_type": "markdown",
      "source": [
        "**Pengurangan**"
      ],
      "metadata": {
        "id": "ZT7HxhL_RiPn"
      }
    },
    {
      "cell_type": "code",
      "source": [
        "A"
      ],
      "metadata": {
        "id": "59G6Sor4GwxW"
      },
      "execution_count": null,
      "outputs": []
    },
    {
      "cell_type": "code",
      "source": [
        "B"
      ],
      "metadata": {
        "id": "E4_ApGvoGxl0"
      },
      "execution_count": null,
      "outputs": []
    },
    {
      "cell_type": "code",
      "source": [
        "# Matrix terhadap scalar\n"
      ],
      "metadata": {
        "id": "wX5wsFKgRhvz"
      },
      "execution_count": null,
      "outputs": []
    },
    {
      "cell_type": "code",
      "source": [
        "# Matrix terhadap matrix\n"
      ],
      "metadata": {
        "id": "XOiB3Ng-R3ZV"
      },
      "execution_count": null,
      "outputs": []
    },
    {
      "cell_type": "markdown",
      "source": [
        "**Pembagian**"
      ],
      "metadata": {
        "id": "V1uqaGXDRkes"
      }
    },
    {
      "cell_type": "code",
      "source": [
        "# Matrix terhadap scalar\n"
      ],
      "metadata": {
        "id": "F8uQAKMhRkG7"
      },
      "execution_count": null,
      "outputs": []
    },
    {
      "cell_type": "code",
      "source": [
        "# Matrix terhadap matrix\n"
      ],
      "metadata": {
        "id": "uO7fElhwR6Fn"
      },
      "execution_count": null,
      "outputs": []
    },
    {
      "cell_type": "markdown",
      "source": [
        "**Perkalian**"
      ],
      "metadata": {
        "id": "_e8x13v-Rmov"
      }
    },
    {
      "cell_type": "code",
      "source": [
        "# Matrix terhadap scalar\n"
      ],
      "metadata": {
        "id": "5os9Jk9JRnPH"
      },
      "execution_count": null,
      "outputs": []
    },
    {
      "cell_type": "code",
      "source": [
        "# Hadamard Product - Element Wise Multiplication\n"
      ],
      "metadata": {
        "id": "f6u68ZJyR_ku"
      },
      "execution_count": null,
      "outputs": []
    },
    {
      "cell_type": "code",
      "source": [
        "# Matrix-to-Matrix Multiplication\n",
        "D = np.array([[2, 1,],\n",
        "              [3, 0],\n",
        "              [1, 4]])\n",
        "\n",
        "E = np.array([[1, 4],\n",
        "              [3, 2]])"
      ],
      "metadata": {
        "id": "EK8HV8FpSEZr"
      },
      "execution_count": null,
      "outputs": []
    },
    {
      "cell_type": "code",
      "source": [],
      "metadata": {
        "id": "wrvBi16GLECM"
      },
      "execution_count": null,
      "outputs": []
    },
    {
      "cell_type": "markdown",
      "source": [
        "# **TENSOR**"
      ],
      "metadata": {
        "id": "Y47aYX9JSTCb"
      }
    },
    {
      "cell_type": "code",
      "source": [
        "import numpy as np"
      ],
      "metadata": {
        "id": "tgVdiNkw0wDL"
      },
      "execution_count": null,
      "outputs": []
    },
    {
      "cell_type": "markdown",
      "source": [
        "# **PRACTICE: VECTOR - COSINE SIMILARITY**"
      ],
      "metadata": {
        "id": "Pk1MGlcjSdKB"
      }
    },
    {
      "cell_type": "markdown",
      "source": [
        "- kalimat 1 = kemarin saya ke rumah nenek saya\n",
        "- kalimat 2 = kemarin saya ke rumah kakek saya"
      ],
      "metadata": {
        "id": "8tBth0geSk5L"
      }
    },
    {
      "cell_type": "markdown",
      "source": [
        "|kamus|kalimat 1|kalimat 2|\n",
        "|--|--|--|\n",
        "|kemarin|1|1|\n",
        "|saya|2|2|\n",
        "|ke|1|1|\n",
        "|rumah|1|1|\n",
        "|nenek|1|0|\n",
        "|kakek|0|1|"
      ],
      "metadata": {
        "id": "uAgChH57Szh1"
      }
    },
    {
      "cell_type": "code",
      "source": [],
      "metadata": {
        "id": "UBQfsX5eMML7"
      },
      "execution_count": null,
      "outputs": []
    },
    {
      "cell_type": "markdown",
      "source": [
        "- kalimat_1 = sore kemarin hujan deras di sini\n",
        "- kalimat_2 = nanti sore ada bazar\n",
        "\n",
        "|kamus|kalimat 1|kalimat 2|\n",
        "|--|--|--|\n",
        "|sore|1|1|\n",
        "|kemarin|1|0|\n",
        "|hujan|1|0|\n",
        "|deras|1|0|\n",
        "|di|1|0|\n",
        "|sini|1|0|\n",
        "|nanti|0|1|\n",
        "|ada|0|1|\n",
        "|bazar|0|1|"
      ],
      "metadata": {
        "id": "-FasJIAoS4iL"
      }
    },
    {
      "cell_type": "code",
      "source": [],
      "metadata": {
        "id": "H1E1GoQtTBls"
      },
      "execution_count": null,
      "outputs": []
    },
    {
      "cell_type": "markdown",
      "source": [
        "- kalimat_1 = kucing mengejar tikus\n",
        "- kalimat_2 = tikus mengejar kucing\n",
        "\n",
        "|kamus|kalimat 1|kalimat 2|\n",
        "|--|--|--|\n",
        "|kucing|1|1|\n",
        "|mengejar|1|1|\n",
        "|tikus|1|1|"
      ],
      "metadata": {
        "id": "j2KPMazITCT6"
      }
    },
    {
      "cell_type": "code",
      "source": [],
      "metadata": {
        "id": "_SEmEjnJTFiE"
      },
      "execution_count": null,
      "outputs": []
    }
  ]
}