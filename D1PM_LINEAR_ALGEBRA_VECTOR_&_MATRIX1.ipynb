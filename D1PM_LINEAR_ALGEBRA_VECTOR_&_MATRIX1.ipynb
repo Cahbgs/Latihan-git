{
  "nbformat": 4,
  "nbformat_minor": 0,
  "metadata": {
    "colab": {
      "provenance": [],
      "collapsed_sections": [
        "FvUFjsJpRDih",
        "yasQ24RGRReC"
      ],
      "include_colab_link": true
    },
    "kernelspec": {
      "name": "python3",
      "display_name": "Python 3"
    },
    "language_info": {
      "name": "python"
    }
  },
  "cells": [
    {
      "cell_type": "markdown",
      "metadata": {
        "id": "view-in-github",
        "colab_type": "text"
      },
      "source": [
        "<a href=\"https://colab.research.google.com/github/Cahbgs/Latihan-git/blob/main/D1PM_LINEAR_ALGEBRA_VECTOR_%26_MATRIX1.ipynb\" target=\"_parent\"><img src=\"https://colab.research.google.com/assets/colab-badge.svg\" alt=\"Open In Colab\"/></a>"
      ]
    },
    {
      "cell_type": "code",
      "execution_count": 1,
      "metadata": {
        "id": "JlA8h_F0PXQs"
      },
      "outputs": [],
      "source": [
        "import numpy as np\n",
        "import matplotlib.pyplot as plt"
      ]
    },
    {
      "cell_type": "code",
      "source": [
        "def plot_vector2d(vector2d, origin=[0, 0], **options):\n",
        "    return plt.arrow(origin[0], origin[1], vector2d[0], vector2d[1],\n",
        "              head_width=0.2, head_length=0.3, length_includes_head=True,\n",
        "              **options)"
      ],
      "metadata": {
        "id": "MtQcwxMhPch2"
      },
      "execution_count": 2,
      "outputs": []
    },
    {
      "cell_type": "markdown",
      "source": [
        "# **VEKTOR**"
      ],
      "metadata": {
        "id": "NRZbfajTPikm"
      }
    },
    {
      "cell_type": "code",
      "source": [
        "a = np.array ([1,2,3])\n",
        "b = np.array ([4,5,6])\n",
        "a,b"
      ],
      "metadata": {
        "id": "DYJWdFeAKlA-",
        "colab": {
          "base_uri": "https://localhost:8080/"
        },
        "outputId": "cdc9a36a-d9d5-4463-feec-8dcd9cbff4fd"
      },
      "execution_count": 7,
      "outputs": [
        {
          "output_type": "execute_result",
          "data": {
            "text/plain": [
              "(array([1, 2, 3]), array([4, 5, 6]))"
            ]
          },
          "metadata": {},
          "execution_count": 7
        }
      ]
    },
    {
      "cell_type": "code",
      "source": [
        "a = np.array ([1,2,3])\n",
        "b = np.array ([4,5,6])\n",
        "a[1:3]"
      ],
      "metadata": {
        "colab": {
          "base_uri": "https://localhost:8080/"
        },
        "id": "pMxkkN6-HuwG",
        "outputId": "bd6bd72c-624f-491d-95db-1066fe857879"
      },
      "execution_count": 22,
      "outputs": [
        {
          "output_type": "execute_result",
          "data": {
            "text/plain": [
              "array([2, 3])"
            ]
          },
          "metadata": {},
          "execution_count": 22
        }
      ]
    },
    {
      "cell_type": "markdown",
      "source": [
        "## **Vector Norm**"
      ],
      "metadata": {
        "id": "fI6nMDpJPlyn"
      }
    },
    {
      "cell_type": "code",
      "source": [
        "v = np.array ([4,3])\n",
        "np.linalg.norm(v)"
      ],
      "metadata": {
        "colab": {
          "base_uri": "https://localhost:8080/"
        },
        "id": "I-7RgKxUIiCJ",
        "outputId": "5c6e68f5-8a84-491a-dab0-efa5dc7b2107"
      },
      "execution_count": 23,
      "outputs": [
        {
          "output_type": "execute_result",
          "data": {
            "text/plain": [
              "5.0"
            ]
          },
          "metadata": {},
          "execution_count": 23
        }
      ]
    },
    {
      "cell_type": "code",
      "source": [
        "plot_vector2d(v, color='r')\n",
        "\n",
        "plt.axis([0,7,0,7])\n",
        "plt.grid()\n",
        "plt.show()"
      ],
      "metadata": {
        "id": "wGtKRC6WTy5X",
        "colab": {
          "base_uri": "https://localhost:8080/",
          "height": 269
        },
        "outputId": "81f25260-0c6b-4ad4-ac1b-f8d9f1ae4f81"
      },
      "execution_count": 25,
      "outputs": [
        {
          "output_type": "display_data",
          "data": {
            "text/plain": [
              "<Figure size 432x288 with 1 Axes>"
            ],
            "image/png": "[encoded data removed]"
          },
          "metadata": {
            "needs_background": "light"
          }
        }
      ]
    },
    {
      "cell_type": "code",
      "source": [
        "# manhattan\n",
        "np.linalg.norm(v, 1)"
      ],
      "metadata": {
        "id": "bBOCU9MAusnK",
        "colab": {
          "base_uri": "https://localhost:8080/"
        },
        "outputId": "eb4f4aa9-8185-42d7-91dc-9b842f256fcd"
      },
      "execution_count": 24,
      "outputs": [
        {
          "output_type": "execute_result",
          "data": {
            "text/plain": [
              "7.0"
            ]
          },
          "metadata": {},
          "execution_count": 24
        }
      ]
    },
    {
      "cell_type": "code",
      "source": [
        "# euclidean\n",
        "np.linalg.norm(v, 2)"
      ],
      "metadata": {
        "id": "2swww8VQu2Iz",
        "colab": {
          "base_uri": "https://localhost:8080/"
        },
        "outputId": "8216c3c0-6a81-4693-b347-d3097310adb1"
      },
      "execution_count": 27,
      "outputs": [
        {
          "output_type": "execute_result",
          "data": {
            "text/plain": [
              "5.0"
            ]
          },
          "metadata": {},
          "execution_count": 27
        }
      ]
    },
    {
      "cell_type": "code",
      "source": [
        "# vector unit/normalized vector\n",
        "v_unit = np.array([4/5, 3/5])\n",
        "v_unit"
      ],
      "metadata": {
        "id": "amYjLqkBvLe2",
        "colab": {
          "base_uri": "https://localhost:8080/"
        },
        "outputId": "01438f8e-0db1-478d-fe21-d17db883fe65"
      },
      "execution_count": 26,
      "outputs": [
        {
          "output_type": "execute_result",
          "data": {
            "text/plain": [
              "array([0.8, 0.6])"
            ]
          },
          "metadata": {},
          "execution_count": 26
        }
      ]
    },
    {
      "cell_type": "code",
      "source": [
        "v_unit = np.array([4/5, 3/5])\n",
        "np.linalg.norm(v_unit)"
      ],
      "metadata": {
        "colab": {
          "base_uri": "https://localhost:8080/"
        },
        "id": "CK_yPWzCLEAh",
        "outputId": "a6920c98-5ad0-48a4-c6fa-a7185e50458a"
      },
      "execution_count": 28,
      "outputs": [
        {
          "output_type": "execute_result",
          "data": {
            "text/plain": [
              "1.0"
            ]
          },
          "metadata": {},
          "execution_count": 28
        }
      ]
    },
    {
      "cell_type": "code",
      "source": [
        "plot_vector2d(v, color='r')\n",
        "plot_vector2d(v_unit, color='b')\n",
        "\n",
        "plt.axis([0,7,0,7])\n",
        "plt.grid()\n",
        "plt.show()"
      ],
      "metadata": {
        "id": "8UGjOMyCvw5X",
        "colab": {
          "base_uri": "https://localhost:8080/",
          "height": 269
        },
        "outputId": "1d3995e8-0c30-40ac-d13b-03ea8fea27f5"
      },
      "execution_count": 29,
      "outputs": [
        {
          "output_type": "display_data",
          "data": {
            "text/plain": [
              "<Figure size 432x288 with 1 Axes>"
            ],
            "image/png": "[encoded data removed]"
          },
          "metadata": {
            "needs_background": "light"
          }
        }
      ]
    },
    {
      "cell_type": "markdown",
      "source": [
        "## **Operasi Aritmatika**"
      ],
      "metadata": {
        "id": "Mqoxaff-PpnG"
      }
    },
    {
      "cell_type": "code",
      "source": [
        "a = np.array([1, 2, 3])\n",
        "b = np.array([2, 1, 1])"
      ],
      "metadata": {
        "id": "s75kouywwWCy"
      },
      "execution_count": 30,
      "outputs": []
    },
    {
      "cell_type": "markdown",
      "source": [
        "**penjumlahan**"
      ],
      "metadata": {
        "id": "q2c1SvROP-aj"
      }
    },
    {
      "cell_type": "code",
      "source": [
        "# vector terhadap skalar\n",
        "a+10\n"
      ],
      "metadata": {
        "id": "75Mk9QdWP94Y",
        "colab": {
          "base_uri": "https://localhost:8080/"
        },
        "outputId": "aebb1200-da32-4a20-adf0-ee8b5d09f705"
      },
      "execution_count": 31,
      "outputs": [
        {
          "output_type": "execute_result",
          "data": {
            "text/plain": [
              "array([11, 12, 13])"
            ]
          },
          "metadata": {},
          "execution_count": 31
        }
      ]
    },
    {
      "cell_type": "code",
      "source": [
        "# vector terhadap vector\n",
        "a+b\n"
      ],
      "metadata": {
        "id": "pJj8VKU7QmM6",
        "colab": {
          "base_uri": "https://localhost:8080/"
        },
        "outputId": "e4d3c86e-2109-4420-be20-dabc6afca875"
      },
      "execution_count": 32,
      "outputs": [
        {
          "output_type": "execute_result",
          "data": {
            "text/plain": [
              "array([3, 3, 4])"
            ]
          },
          "metadata": {},
          "execution_count": 32
        }
      ]
    },
    {
      "cell_type": "code",
      "source": [
        "# error shape missmatch\n",
        "a = np.array([1, 2, 3,4])\n",
        "a+c\n"
      ],
      "metadata": {
        "id": "3vK01BPhw3QZ",
        "colab": {
          "base_uri": "https://localhost:8080/",
          "height": 200
        },
        "outputId": "bd7d56ec-9145-4e14-975a-1bbac0ab4af7"
      },
      "execution_count": 7,
      "outputs": [
        {
          "output_type": "error",
          "ename": "NameError",
          "evalue": "ignored",
          "traceback": [
            "\u001b[0;31m---------------------------------------------------------------------------\u001b[0m",
            "\u001b[0;31mNameError\u001b[0m                                 Traceback (most recent call last)",
            "\u001b[0;32m<ipython-input-7-2d144343853f>\u001b[0m in \u001b[0;36m<module>\u001b[0;34m\u001b[0m\n\u001b[1;32m      1\u001b[0m \u001b[0;31m# error shape missmatch\u001b[0m\u001b[0;34m\u001b[0m\u001b[0;34m\u001b[0m\u001b[0;34m\u001b[0m\u001b[0m\n\u001b[1;32m      2\u001b[0m \u001b[0ma\u001b[0m \u001b[0;34m=\u001b[0m \u001b[0mnp\u001b[0m\u001b[0;34m.\u001b[0m\u001b[0marray\u001b[0m\u001b[0;34m(\u001b[0m\u001b[0;34m[\u001b[0m\u001b[0;36m1\u001b[0m\u001b[0;34m,\u001b[0m \u001b[0;36m2\u001b[0m\u001b[0;34m,\u001b[0m \u001b[0;36m3\u001b[0m\u001b[0;34m,\u001b[0m\u001b[0;36m4\u001b[0m\u001b[0;34m]\u001b[0m\u001b[0;34m)\u001b[0m\u001b[0;34m\u001b[0m\u001b[0;34m\u001b[0m\u001b[0m\n\u001b[0;32m----> 3\u001b[0;31m \u001b[0ma\u001b[0m\u001b[0;34m+\u001b[0m\u001b[0mc\u001b[0m\u001b[0;34m\u001b[0m\u001b[0;34m\u001b[0m\u001b[0m\n\u001b[0m",
            "\u001b[0;31mNameError\u001b[0m: name 'c' is not defined"
          ]
        }
      ]
    },
    {
      "cell_type": "code",
      "source": [
        "# visualization\n",
        "v1=np.array([2,4])\n",
        "v2=np.array([5,3])\n"
      ],
      "metadata": {
        "id": "gfAC44R6xLD_"
      },
      "execution_count": 36,
      "outputs": []
    },
    {
      "cell_type": "code",
      "source": [
        "plot_vector2d(v1, color='r')\n",
        "plot_vector2d(v2, origin=v1, color='b')\n",
        "plot_vector2d(v1+v2, color='g')\n",
        "\n",
        "plt.axis([0,8,0,8])\n",
        "plt.grid()\n",
        "plt.show()"
      ],
      "metadata": {
        "id": "gGFvIKMAxH9S",
        "colab": {
          "base_uri": "https://localhost:8080/",
          "height": 269
        },
        "outputId": "681c88f4-4a82-44c0-d1bd-3aa31fd80330"
      },
      "execution_count": 37,
      "outputs": [
        {
          "output_type": "display_data",
          "data": {
            "text/plain": [
              "<Figure size 432x288 with 1 Axes>"
            ],
            "image/png": "[encoded data removed]"
          },
          "metadata": {
            "needs_background": "light"
          }
        }
      ]
    },
    {
      "cell_type": "code",
      "source": [
        "plot_vector2d(v1, color='r')\n",
        "plot_vector2d(v2,  color='b')\n",
        "\n",
        "plt.axis([0,8,0,8])\n",
        "plt.grid()\n",
        "plt.show()"
      ],
      "metadata": {
        "colab": {
          "base_uri": "https://localhost:8080/",
          "height": 269
        },
        "id": "1PiT_c-PNcQW",
        "outputId": "fc2e91a5-2bad-4ec9-84ed-702a1182c9f6"
      },
      "execution_count": 41,
      "outputs": [
        {
          "output_type": "display_data",
          "data": {
            "text/plain": [
              "<Figure size 432x288 with 1 Axes>"
            ],
            "image/png": "[encoded data removed]"
          },
          "metadata": {
            "needs_background": "light"
          }
        }
      ]
    },
    {
      "cell_type": "code",
      "source": [
        "plot_vector2d(v1, color='r')\n",
        "plot_vector2d(v2,  color='b')\n",
        "plot_vector2d(v1+v2, color='g')\n",
        "\n",
        "plt.axis([0,8,0,8])\n",
        "plt.grid()\n",
        "plt.show()"
      ],
      "metadata": {
        "colab": {
          "base_uri": "https://localhost:8080/",
          "height": 269
        },
        "id": "LWk8V1VTNm-c",
        "outputId": "61a3d6dd-3e0b-499a-d9f1-2644ce276e9a"
      },
      "execution_count": 40,
      "outputs": [
        {
          "output_type": "display_data",
          "data": {
            "text/plain": [
              "<Figure size 432x288 with 1 Axes>"
            ],
            "image/png": "[encoded data removed]"
          },
          "metadata": {
            "needs_background": "light"
          }
        }
      ]
    },
    {
      "cell_type": "markdown",
      "source": [
        "**pengurangan**"
      ],
      "metadata": {
        "id": "BzkAB_32QAjJ"
      }
    },
    {
      "cell_type": "code",
      "source": [
        "# vector terhadap skalar\n",
        "20 -a\n"
      ],
      "metadata": {
        "id": "hxT4ccOVPiP4",
        "colab": {
          "base_uri": "https://localhost:8080/"
        },
        "outputId": "72460973-57fb-41b7-8f72-36851b2978f3"
      },
      "execution_count": 44,
      "outputs": [
        {
          "output_type": "execute_result",
          "data": {
            "text/plain": [
              "array([19, 18, 17, 16])"
            ]
          },
          "metadata": {},
          "execution_count": 44
        }
      ]
    },
    {
      "cell_type": "code",
      "source": [
        "# vector terhadap vector\n",
        "a = np.array([1, 2, 3])\n",
        "b = np.array([2, 1, 1])\n",
        "b-a"
      ],
      "metadata": {
        "id": "iWw4MqUYQhsI",
        "colab": {
          "base_uri": "https://localhost:8080/"
        },
        "outputId": "554d32e4-2b85-4767-c220-a5645173f3ba"
      },
      "execution_count": 46,
      "outputs": [
        {
          "output_type": "execute_result",
          "data": {
            "text/plain": [
              "array([ 1, -1, -2])"
            ]
          },
          "metadata": {},
          "execution_count": 46
        }
      ]
    },
    {
      "cell_type": "code",
      "source": [
        "plot_vector2d(v1, color='r')\n",
        "plot_vector2d(-v2,  color='b')\n",
        "\n",
        "plt.axis([0,8,0,8])\n",
        "plt.grid()\n",
        "plt.show()"
      ],
      "metadata": {
        "colab": {
          "base_uri": "https://localhost:8080/",
          "height": 269
        },
        "id": "RZAkMp47OY92",
        "outputId": "917abf54-2c25-427e-fdc5-5c445ba22c4a"
      },
      "execution_count": 47,
      "outputs": [
        {
          "output_type": "display_data",
          "data": {
            "text/plain": [
              "<Figure size 432x288 with 1 Axes>"
            ],
            "image/png": "[encoded data removed]"
          },
          "metadata": {
            "needs_background": "light"
          }
        }
      ]
    },
    {
      "cell_type": "markdown",
      "source": [
        "**pembagian**"
      ],
      "metadata": {
        "id": "fa7bSwA9QCzd"
      }
    },
    {
      "cell_type": "code",
      "source": [
        "print(a, b)"
      ],
      "metadata": {
        "id": "EbGzpmQ1y6Bx"
      },
      "execution_count": null,
      "outputs": []
    },
    {
      "cell_type": "code",
      "source": [
        "# vector terhadap skalar\n",
        "a/1\n"
      ],
      "metadata": {
        "id": "b_hqM9GzQD5C",
        "colab": {
          "base_uri": "https://localhost:8080/"
        },
        "outputId": "2b1e3a7d-c30b-453c-e6a3-dbb771a7f993"
      },
      "execution_count": 54,
      "outputs": [
        {
          "output_type": "execute_result",
          "data": {
            "text/plain": [
              "array([1., 2., 3.])"
            ]
          },
          "metadata": {},
          "execution_count": 54
        }
      ]
    },
    {
      "cell_type": "code",
      "source": [
        "# vector terhadap vector\n",
        "a/b"
      ],
      "metadata": {
        "id": "XN1ny5ErQfmo",
        "colab": {
          "base_uri": "https://localhost:8080/"
        },
        "outputId": "18168067-99b9-4786-c938-54737f69a30d"
      },
      "execution_count": 55,
      "outputs": [
        {
          "output_type": "execute_result",
          "data": {
            "text/plain": [
              "array([0.5, 2. , 3. ])"
            ]
          },
          "metadata": {},
          "execution_count": 55
        }
      ]
    },
    {
      "cell_type": "code",
      "source": [
        "c = np.array([1, 0, 1])\n",
        "a/c"
      ],
      "metadata": {
        "id": "WgfjTrVLzAi-",
        "colab": {
          "base_uri": "https://localhost:8080/"
        },
        "outputId": "e67d87cd-0dc2-4b2a-94d1-52f7dd2e7292"
      },
      "execution_count": 57,
      "outputs": [
        {
          "output_type": "stream",
          "name": "stderr",
          "text": [
            "<ipython-input-57-25b471bfc263>:2: RuntimeWarning: divide by zero encountered in true_divide\n",
            "  a/c\n"
          ]
        },
        {
          "output_type": "execute_result",
          "data": {
            "text/plain": [
              "array([ 1., inf,  3.])"
            ]
          },
          "metadata": {},
          "execution_count": 57
        }
      ]
    },
    {
      "cell_type": "code",
      "source": [
        "0/1"
      ],
      "metadata": {
        "colab": {
          "base_uri": "https://localhost:8080/"
        },
        "id": "9c_T4zUBQAm7",
        "outputId": "2f95e438-ddc2-4328-aa78-7be7b4f29ae2"
      },
      "execution_count": 62,
      "outputs": [
        {
          "output_type": "execute_result",
          "data": {
            "text/plain": [
              "0.0"
            ]
          },
          "metadata": {},
          "execution_count": 62
        }
      ]
    },
    {
      "cell_type": "markdown",
      "source": [
        "**perkalian**"
      ],
      "metadata": {
        "id": "Pqj-CC5ZQEaR"
      }
    },
    {
      "cell_type": "code",
      "source": [
        "# vector terhadap skalar - scaling\n",
        "#scaling: vektor mengalami perubahan panjang, tanpa disertai perpindahan\n",
        "v = np.array([4/5, 3/5])\n",
        "\n",
        "plot_vector2d(v, color='r')\n",
        "plot_vector2d(-1.5*v, color='g')\n",
        "\n",
        "plt.axis([-10, 10, -10, 10])  # rentang axis x dan y\n",
        "plt.axvline(0)              # garis y = 0\n",
        "plt.axhline(0)              # garis x = 0\n",
        "plt.grid()\n",
        "plt.show()"
      ],
      "metadata": {
        "id": "aX6BlECiQGBQ",
        "colab": {
          "base_uri": "https://localhost:8080/",
          "height": 235
        },
        "outputId": "e9cab240-c043-4965-d8a4-3386a138910a"
      },
      "execution_count": 8,
      "outputs": [
        {
          "output_type": "error",
          "ename": "NameError",
          "evalue": "ignored",
          "traceback": [
            "\u001b[0;31m---------------------------------------------------------------------------\u001b[0m",
            "\u001b[0;31mNameError\u001b[0m                                 Traceback (most recent call last)",
            "\u001b[0;32m<ipython-input-8-337b9bf767ab>\u001b[0m in \u001b[0;36m<module>\u001b[0;34m\u001b[0m\n\u001b[1;32m      3\u001b[0m \u001b[0mv\u001b[0m \u001b[0;34m=\u001b[0m \u001b[0mnp\u001b[0m\u001b[0;34m.\u001b[0m\u001b[0marray\u001b[0m\u001b[0;34m(\u001b[0m\u001b[0;34m[\u001b[0m\u001b[0;36m4\u001b[0m\u001b[0;34m/\u001b[0m\u001b[0;36m5\u001b[0m\u001b[0;34m,\u001b[0m \u001b[0;36m3\u001b[0m\u001b[0;34m/\u001b[0m\u001b[0;36m5\u001b[0m\u001b[0;34m]\u001b[0m\u001b[0;34m)\u001b[0m\u001b[0;34m\u001b[0m\u001b[0;34m\u001b[0m\u001b[0m\n\u001b[1;32m      4\u001b[0m \u001b[0;34m\u001b[0m\u001b[0m\n\u001b[0;32m----> 5\u001b[0;31m \u001b[0mplot_vector2d\u001b[0m\u001b[0;34m(\u001b[0m\u001b[0mv\u001b[0m\u001b[0;34m,\u001b[0m \u001b[0mcolor\u001b[0m\u001b[0;34m=\u001b[0m\u001b[0;34m'r'\u001b[0m\u001b[0;34m)\u001b[0m\u001b[0;34m\u001b[0m\u001b[0;34m\u001b[0m\u001b[0m\n\u001b[0m\u001b[1;32m      6\u001b[0m \u001b[0mplot_vector2d\u001b[0m\u001b[0;34m(\u001b[0m\u001b[0;34m-\u001b[0m\u001b[0;36m1.5\u001b[0m\u001b[0;34m*\u001b[0m\u001b[0mv\u001b[0m\u001b[0;34m,\u001b[0m \u001b[0mcolor\u001b[0m\u001b[0;34m=\u001b[0m\u001b[0;34m'g'\u001b[0m\u001b[0;34m)\u001b[0m\u001b[0;34m\u001b[0m\u001b[0;34m\u001b[0m\u001b[0m\n\u001b[1;32m      7\u001b[0m \u001b[0;34m\u001b[0m\u001b[0m\n",
            "\u001b[0;31mNameError\u001b[0m: name 'plot_vector2d' is not defined"
          ]
        }
      ]
    },
    {
      "cell_type": "code",
      "source": [
        "#  vector terhadap vector - element-wise multiplication\n"
      ],
      "metadata": {
        "id": "FbsXfSAIQNlz"
      },
      "execution_count": null,
      "outputs": []
    },
    {
      "cell_type": "code",
      "source": [
        "# dot product\n"
      ],
      "metadata": {
        "id": "qhoRIsn9Qbam"
      },
      "execution_count": null,
      "outputs": []
    },
    {
      "cell_type": "markdown",
      "source": [
        "## **Cosine Similarity**"
      ],
      "metadata": {
        "id": "FvUFjsJpRDih"
      }
    },
    {
      "cell_type": "code",
      "source": [
        "v1 = np.array([4,3])\n",
        "v2 = np.array([6,3])\n",
        "\n",
        "plot_vector2d(v1, color='r')\n",
        "plot_vector2d(v2, color='g')\n",
        "\n",
        "plt.axis([-10, 10, 0, 10])  # rentang axis x dan y\n",
        "plt.axvline(0)              # garis y = 0\n",
        "plt.axhline(0)              # garis x = 0\n",
        "plt.grid()\n",
        "plt.show()"
      ],
      "metadata": {
        "id": "8xvgUo51RBoc",
        "colab": {
          "base_uri": "https://localhost:8080/",
          "height": 235
        },
        "outputId": "218b3347-2a91-4fd4-cbdd-38f3498efa48"
      },
      "execution_count": 6,
      "outputs": [
        {
          "output_type": "error",
          "ename": "NameError",
          "evalue": "ignored",
          "traceback": [
            "\u001b[0;31m---------------------------------------------------------------------------\u001b[0m",
            "\u001b[0;31mNameError\u001b[0m                                 Traceback (most recent call last)",
            "\u001b[0;32m<ipython-input-6-a476df109489>\u001b[0m in \u001b[0;36m<module>\u001b[0;34m\u001b[0m\n\u001b[1;32m      2\u001b[0m \u001b[0mv2\u001b[0m \u001b[0;34m=\u001b[0m \u001b[0mnp\u001b[0m\u001b[0;34m.\u001b[0m\u001b[0marray\u001b[0m\u001b[0;34m(\u001b[0m\u001b[0;34m[\u001b[0m\u001b[0;36m6\u001b[0m\u001b[0;34m,\u001b[0m\u001b[0;36m3\u001b[0m\u001b[0;34m]\u001b[0m\u001b[0;34m)\u001b[0m\u001b[0;34m\u001b[0m\u001b[0;34m\u001b[0m\u001b[0m\n\u001b[1;32m      3\u001b[0m \u001b[0;34m\u001b[0m\u001b[0m\n\u001b[0;32m----> 4\u001b[0;31m \u001b[0mplot_vector2d\u001b[0m\u001b[0;34m(\u001b[0m\u001b[0mv1\u001b[0m\u001b[0;34m,\u001b[0m \u001b[0mcolor\u001b[0m\u001b[0;34m=\u001b[0m\u001b[0;34m'r'\u001b[0m\u001b[0;34m)\u001b[0m\u001b[0;34m\u001b[0m\u001b[0;34m\u001b[0m\u001b[0m\n\u001b[0m\u001b[1;32m      5\u001b[0m \u001b[0mplot_vector2d\u001b[0m\u001b[0;34m(\u001b[0m\u001b[0mv2\u001b[0m\u001b[0;34m,\u001b[0m \u001b[0mcolor\u001b[0m\u001b[0;34m=\u001b[0m\u001b[0;34m'g'\u001b[0m\u001b[0;34m)\u001b[0m\u001b[0;34m\u001b[0m\u001b[0;34m\u001b[0m\u001b[0m\n\u001b[1;32m      6\u001b[0m \u001b[0;34m\u001b[0m\u001b[0m\n",
            "\u001b[0;31mNameError\u001b[0m: name 'plot_vector2d' is not defined"
          ]
        }
      ]
    },
    {
      "cell_type": "code",
      "source": [
        "v1 = np.array([5, 0])\n",
        "v2 = np.array([0, 4])\n",
        "\n",
        "plot_vector2d(v2, color='r')\n",
        "plot_vector2d(v1, color='g')\n",
        "\n",
        "plt.axis([0, 10, 0, 10])  # rentang axis x dan y\n",
        "plt.axvline(0)              # garis y = 0\n",
        "plt.axhline(0)              # garis x = 0\n",
        "plt.grid()\n",
        "plt.show()"
      ],
      "metadata": {
        "id": "cJhTYhfmfUgo"
      },
      "execution_count": null,
      "outputs": []
    },
    {
      "cell_type": "code",
      "source": [
        "cos_theta = v1 @ v2 / (np.linalg.norm(v1) * np.linalg.norm(v2))\n",
        "cos_theta"
      ],
      "metadata": {
        "id": "ZBMdTZsQfl__"
      },
      "execution_count": null,
      "outputs": []
    },
    {
      "cell_type": "code",
      "source": [
        "v1 = np.array([5, 0])\n",
        "v2 = np.array([8, 0])\n",
        "\n",
        "plot_vector2d(v2, color='r')\n",
        "plot_vector2d(v1, color='g')\n",
        "\n",
        "plt.axis([0, 10, 0, 10])  # rentang axis x dan y\n",
        "plt.axvline(0)              # garis y = 0\n",
        "plt.axhline(0)              # garis x = 0\n",
        "plt.grid()\n",
        "plt.show()"
      ],
      "metadata": {
        "id": "izyRu6Wz4Gi1"
      },
      "execution_count": null,
      "outputs": []
    },
    {
      "cell_type": "code",
      "source": [
        "cos_theta = v1 @ v2 / (np.linalg.norm(v1) * np.linalg.norm(v2))\n",
        "cos_theta"
      ],
      "metadata": {
        "id": "3jHnv7Ji4O6F"
      },
      "execution_count": null,
      "outputs": []
    },
    {
      "cell_type": "code",
      "source": [
        "# convert to radian\n",
        "rad = np.arccos(cos_theta)\n",
        "rad"
      ],
      "metadata": {
        "id": "C8H2RjVV_I2N"
      },
      "execution_count": null,
      "outputs": []
    },
    {
      "cell_type": "code",
      "source": [
        "# convert to degree\n",
        "degree = np.degrees(rad)\n",
        "degree"
      ],
      "metadata": {
        "id": "w_nQ2jWS_UvV"
      },
      "execution_count": null,
      "outputs": []
    },
    {
      "cell_type": "markdown",
      "source": [
        "# **MATRIX**"
      ],
      "metadata": {
        "id": "OCatTijvRAr2"
      }
    },
    {
      "cell_type": "markdown",
      "source": [
        "## **Operasi Aritmatika**"
      ],
      "metadata": {
        "id": "yasQ24RGRReC"
      }
    },
    {
      "cell_type": "code",
      "source": [
        "print(A)"
      ],
      "metadata": {
        "id": "gEBbaOzWmG03"
      },
      "execution_count": null,
      "outputs": []
    },
    {
      "cell_type": "code",
      "source": [
        "print(B)"
      ],
      "metadata": {
        "id": "eaV83G6SmH6e"
      },
      "execution_count": null,
      "outputs": []
    },
    {
      "cell_type": "markdown",
      "source": [
        "**Penjumlahan**"
      ],
      "metadata": {
        "id": "0fshRx_HRebj"
      }
    },
    {
      "cell_type": "code",
      "source": [
        "# Matrix terhadap scalar\n"
      ],
      "metadata": {
        "id": "umYzqz0eRQ7w"
      },
      "execution_count": null,
      "outputs": []
    },
    {
      "cell_type": "code",
      "source": [
        "# Matrix terhadap matrix\n"
      ],
      "metadata": {
        "id": "iRpMtdrkR1MA"
      },
      "execution_count": null,
      "outputs": []
    },
    {
      "cell_type": "code",
      "source": [
        "# matrix terhadap vektor\n"
      ],
      "metadata": {
        "id": "v09TKhIImTca"
      },
      "execution_count": null,
      "outputs": []
    },
    {
      "cell_type": "markdown",
      "source": [
        "**Pengurangan**"
      ],
      "metadata": {
        "id": "ZT7HxhL_RiPn"
      }
    },
    {
      "cell_type": "code",
      "source": [
        "A"
      ],
      "metadata": {
        "id": "59G6Sor4GwxW"
      },
      "execution_count": null,
      "outputs": []
    },
    {
      "cell_type": "code",
      "source": [
        "B"
      ],
      "metadata": {
        "id": "E4_ApGvoGxl0"
      },
      "execution_count": null,
      "outputs": []
    },
    {
      "cell_type": "code",
      "source": [
        "# Matrix terhadap scalar\n"
      ],
      "metadata": {
        "id": "wX5wsFKgRhvz"
      },
      "execution_count": null,
      "outputs": []
    },
    {
      "cell_type": "code",
      "source": [
        "# Matrix terhadap matrix\n"
      ],
      "metadata": {
        "id": "XOiB3Ng-R3ZV"
      },
      "execution_count": null,
      "outputs": []
    },
    {
      "cell_type": "markdown",
      "source": [
        "**Pembagian**"
      ],
      "metadata": {
        "id": "V1uqaGXDRkes"
      }
    },
    {
      "cell_type": "code",
      "source": [
        "# Matrix terhadap scalar\n"
      ],
      "metadata": {
        "id": "F8uQAKMhRkG7"
      },
      "execution_count": null,
      "outputs": []
    },
    {
      "cell_type": "code",
      "source": [
        "# Matrix terhadap matrix\n"
      ],
      "metadata": {
        "id": "uO7fElhwR6Fn"
      },
      "execution_count": null,
      "outputs": []
    },
    {
      "cell_type": "markdown",
      "source": [
        "**Perkalian**"
      ],
      "metadata": {
        "id": "_e8x13v-Rmov"
      }
    },
    {
      "cell_type": "code",
      "source": [
        "# Matrix terhadap scalar\n"
      ],
      "metadata": {
        "id": "5os9Jk9JRnPH"
      },
      "execution_count": null,
      "outputs": []
    },
    {
      "cell_type": "code",
      "source": [
        "# Hadamard Product - Element Wise Multiplication\n"
      ],
      "metadata": {
        "id": "f6u68ZJyR_ku"
      },
      "execution_count": null,
      "outputs": []
    },
    {
      "cell_type": "code",
      "source": [
        "# Matrix-to-Matrix Multiplication\n",
        "D = np.array([[2, 1,],\n",
        "              [3, 0],\n",
        "              [1, 4]])\n",
        "\n",
        "E = np.array([[1, 4],\n",
        "              [3, 2]])"
      ],
      "metadata": {
        "id": "EK8HV8FpSEZr"
      },
      "execution_count": null,
      "outputs": []
    },
    {
      "cell_type": "code",
      "source": [],
      "metadata": {
        "id": "wrvBi16GLECM"
      },
      "execution_count": null,
      "outputs": []
    },
    {
      "cell_type": "markdown",
      "source": [
        "# **TENSOR**"
      ],
      "metadata": {
        "id": "Y47aYX9JSTCb"
      }
    },
    {
      "cell_type": "code",
      "source": [
        "import numpy as np"
      ],
      "metadata": {
        "id": "tgVdiNkw0wDL"
      },
      "execution_count": null,
      "outputs": []
    },
    {
      "cell_type": "markdown",
      "source": [
        "# **PRACTICE: VECTOR - COSINE SIMILARITY**"
      ],
      "metadata": {
        "id": "Pk1MGlcjSdKB"
      }
    },
    {
      "cell_type": "markdown",
      "source": [
        "- kalimat 1 = kemarin saya ke rumah nenek saya\n",
        "- kalimat 2 = kemarin saya ke rumah kakek saya"
      ],
      "metadata": {
        "id": "8tBth0geSk5L"
      }
    },
    {
      "cell_type": "markdown",
      "source": [
        "|kamus|kalimat 1|kalimat 2|\n",
        "|--|--|--|\n",
        "|kemarin|1|1|\n",
        "|saya|2|2|\n",
        "|ke|1|1|\n",
        "|rumah|1|1|\n",
        "|nenek|1|0|\n",
        "|kakek|0|1|"
      ],
      "metadata": {
        "id": "uAgChH57Szh1"
      }
    },
    {
      "cell_type": "code",
      "source": [],
      "metadata": {
        "id": "UBQfsX5eMML7"
      },
      "execution_count": null,
      "outputs": []
    },
    {
      "cell_type": "markdown",
      "source": [
        "- kalimat_1 = sore kemarin hujan deras di sini\n",
        "- kalimat_2 = nanti sore ada bazar\n",
        "\n",
        "|kamus|kalimat 1|kalimat 2|\n",
        "|--|--|--|\n",
        "|sore|1|1|\n",
        "|kemarin|1|0|\n",
        "|hujan|1|0|\n",
        "|deras|1|0|\n",
        "|di|1|0|\n",
        "|sini|1|0|\n",
        "|nanti|0|1|\n",
        "|ada|0|1|\n",
        "|bazar|0|1|"
      ],
      "metadata": {
        "id": "-FasJIAoS4iL"
      }
    },
    {
      "cell_type": "code",
      "source": [],
      "metadata": {
        "id": "H1E1GoQtTBls"
      },
      "execution_count": null,
      "outputs": []
    },
    {
      "cell_type": "markdown",
      "source": [
        "- kalimat_1 = kucing mengejar tikus\n",
        "- kalimat_2 = tikus mengejar kucing\n",
        "\n",
        "|kamus|kalimat 1|kalimat 2|\n",
        "|--|--|--|\n",
        "|kucing|1|1|\n",
        "|mengejar|1|1|\n",
        "|tikus|1|1|"
      ],
      "metadata": {
        "id": "j2KPMazITCT6"
      }
    },
    {
      "cell_type": "code",
      "source": [],
      "metadata": {
        "id": "_SEmEjnJTFiE"
      },
      "execution_count": null,
      "outputs": []
    }
  ]
}